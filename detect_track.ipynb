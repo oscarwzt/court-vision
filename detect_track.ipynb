{
 "cells": [
  {
   "cell_type": "code",
   "execution_count": 1,
   "metadata": {},
   "outputs": [],
   "source": [
    "from ultralytics import YOLO\n",
    "import cv2\n",
    "import numpy as np\n",
    "import cvzone\n",
    "from detection import DETECT\n",
    "from mss import mss\n",
    "from deep_sort_realtime.deepsort_tracker import DeepSort\n",
    "import datetime"
   ]
  },
  {
   "attachments": {},
   "cell_type": "markdown",
   "metadata": {},
   "source": [
    "# Detect a Video"
   ]
  },
  {
   "cell_type": "code",
   "execution_count": 3,
   "metadata": {},
   "outputs": [
    {
     "name": "stderr",
     "output_type": "stream",
     "text": [
      "Processing frames:   0%|                                                    | 0/208 [00:00<?, ?it/s]\n",
      "0: 384x640 2 basketballs, 3 basketball-hoopss, 28.7ms\n",
      "Speed: 1.7ms preprocess, 28.7ms inference, 6.0ms postprocess per image at shape (1, 3, 384, 640)\n",
      "Processing frames:   0%|                        | 1/208 [00:01<06:05,  1.77s/it, inference=1733.0ms]\n",
      "0: 384x640 2 basketballs, 3 basketball-hoopss, 32.1ms\n",
      "Speed: 2.8ms preprocess, 32.1ms inference, 5.4ms postprocess per image at shape (1, 3, 384, 640)\n",
      "Processing frames:   1%|▎                         | 2/208 [00:01<02:42,  1.26it/s, inference=58.4ms]\n",
      "0: 384x640 2 basketballs, 3 basketball-hoopss, 30.5ms\n",
      "Speed: 4.1ms preprocess, 30.5ms inference, 4.8ms postprocess per image at shape (1, 3, 384, 640)\n",
      "Processing frames:   1%|▎                         | 2/208 [00:01<02:42,  1.26it/s, inference=56.5ms]"
     ]
    },
    {
     "name": "stdout",
     "output_type": "stream",
     "text": [
      "[3]:   None      (1093, 429)\n",
      "[4]:   (1093, 429)      (699, 416)\n",
      "[2]:   (699, 416)      (697, 412)\n",
      "[4]:   (697, 412)      (1093, 429)\n",
      "[3]:   (1093, 429)      (1093, 429)\n",
      "[4]:   (1093, 429)      (695, 410)\n"
     ]
    },
    {
     "name": "stderr",
     "output_type": "stream",
     "text": [
      "\n",
      "0: 384x640 2 basketballs, 3 basketball-hoopss, 29.5ms\n",
      "Speed: 2.3ms preprocess, 29.5ms inference, 4.9ms postprocess per image at shape (1, 3, 384, 640)\n",
      "Processing frames:   2%|▌                         | 4/208 [00:02<01:10,  2.90it/s, inference=53.7ms]\n",
      "0: 384x640 2 basketballs, 3 basketball-hoopss, 29.1ms\n",
      "Speed: 2.2ms preprocess, 29.1ms inference, 4.8ms postprocess per image at shape (1, 3, 384, 640)\n",
      "Processing frames:   2%|▌                         | 4/208 [00:02<01:10,  2.90it/s, inference=52.1ms]\n",
      "0: 384x640 2 basketballs, 3 basketball-hoopss, 29.4ms\n",
      "Speed: 2.0ms preprocess, 29.4ms inference, 4.4ms postprocess per image at shape (1, 3, 384, 640)\n",
      "Processing frames:   3%|▊                         | 6/208 [00:02<00:43,  4.63it/s, inference=51.3ms]\n"
     ]
    },
    {
     "name": "stdout",
     "output_type": "stream",
     "text": [
      "[2]:   (695, 410)      (691, 406)\n",
      "[4]:   (691, 406)      (1093, 429)\n",
      "[2]:   (1093, 429)      (686, 405)\n",
      "[4]:   (686, 405)      (1093, 429)\n",
      "[0]:   (1093, 429)      (676, 403)\n",
      "[4]:   (676, 403)      (1093, 429)\n"
     ]
    },
    {
     "name": "stderr",
     "output_type": "stream",
     "text": [
      "0: 384x640 2 basketballs, 3 basketball-hoopss, 29.8ms\n",
      "Speed: 2.9ms preprocess, 29.8ms inference, 4.7ms postprocess per image at shape (1, 3, 384, 640)\n",
      "Processing frames:   3%|▊                         | 6/208 [00:02<00:43,  4.63it/s, inference=53.1ms]\n",
      "0: 384x640 2 basketballs, 3 basketball-hoopss, 31.7ms\n",
      "Speed: 2.1ms preprocess, 31.7ms inference, 4.7ms postprocess per image at shape (1, 3, 384, 640)\n",
      "Processing frames:   4%|█                         | 8/208 [00:02<00:31,  6.28it/s, inference=54.7ms]\n",
      "0: 384x640 2 basketballs, 3 basketball-hoopss, 30.9ms\n",
      "Speed: 2.6ms preprocess, 30.9ms inference, 5.0ms postprocess per image at shape (1, 3, 384, 640)\n",
      "Processing frames:   4%|█                         | 8/208 [00:02<00:31,  6.28it/s, inference=57.9ms]\n"
     ]
    },
    {
     "name": "stdout",
     "output_type": "stream",
     "text": [
      "[2]:   (1093, 429)      (666, 400)\n",
      "[4]:   (666, 400)      (1093, 429)\n",
      "[3]:   (1093, 429)      (654, 399)\n",
      "[4]:   (654, 399)      (1093, 429)\n",
      "[3]:   (1093, 429)      (641, 400)\n",
      "[4]:   (641, 400)      (1093, 429)\n"
     ]
    },
    {
     "name": "stderr",
     "output_type": "stream",
     "text": [
      "0: 384x640 2 basketballs, 3 basketball-hoopss, 28.8ms\n",
      "Speed: 2.0ms preprocess, 28.8ms inference, 4.4ms postprocess per image at shape (1, 3, 384, 640)\n",
      "Processing frames:   5%|█▏                       | 10/208 [00:02<00:25,  7.78it/s, inference=51.8ms]\n",
      "0: 384x640 2 basketballs, 3 basketball-hoopss, 29.9ms\n",
      "Speed: 2.3ms preprocess, 29.9ms inference, 4.3ms postprocess per image at shape (1, 3, 384, 640)\n",
      "Processing frames:   5%|█▏                       | 10/208 [00:02<00:25,  7.78it/s, inference=52.3ms]\n",
      "0: 384x640 2 basketballs, 3 basketball-hoopss, 27.2ms\n",
      "Speed: 2.1ms preprocess, 27.2ms inference, 5.3ms postprocess per image at shape (1, 3, 384, 640)\n",
      "Processing frames:   6%|█▍                       | 12/208 [00:02<00:21,  9.17it/s, inference=50.0ms]\n"
     ]
    },
    {
     "name": "stdout",
     "output_type": "stream",
     "text": [
      "[3]:   (1093, 429)      (1093, 429)\n",
      "[4]:   (1093, 429)      (626, 400)\n",
      "[3]:   (626, 400)      (1093, 429)\n",
      "[4]:   (1093, 429)      (610, 402)\n",
      "[3]:   (610, 402)      (592, 405)\n",
      "[4]:   (592, 405)      (1093, 429)\n"
     ]
    },
    {
     "name": "stderr",
     "output_type": "stream",
     "text": [
      "0: 384x640 1 basketball, 3 basketball-hoopss, 28.7ms\n",
      "Speed: 2.0ms preprocess, 28.7ms inference, 4.7ms postprocess per image at shape (1, 3, 384, 640)\n",
      "Processing frames:   6%|█▍                       | 12/208 [00:02<00:21,  9.17it/s, inference=48.9ms]\n",
      "0: 384x640 2 basketballs, 3 basketball-hoopss, 27.2ms\n",
      "Speed: 2.0ms preprocess, 27.2ms inference, 4.5ms postprocess per image at shape (1, 3, 384, 640)\n",
      "Processing frames:   7%|█▋                       | 14/208 [00:02<00:18, 10.40it/s, inference=49.0ms]\n",
      "0: 384x640 2 basketballs, 3 basketball-hoopss, 31.5ms\n",
      "Speed: 1.8ms preprocess, 31.5ms inference, 4.7ms postprocess per image at shape (1, 3, 384, 640)\n",
      "Processing frames:   7%|█▋                       | 14/208 [00:02<00:18, 10.40it/s, inference=53.8ms]\n"
     ]
    },
    {
     "name": "stdout",
     "output_type": "stream",
     "text": [
      "[3]:   (1093, 429)      (1093, 429)\n",
      "[3]:   (1093, 429)      (549, 415)\n",
      "[4]:   (549, 415)      (1093, 429)\n",
      "[3]:   (1093, 429)      (525, 423)\n",
      "[4]:   (525, 423)      (1093, 429)\n"
     ]
    },
    {
     "name": "stderr",
     "output_type": "stream",
     "text": [
      "0: 384x640 1 basketball, 3 basketball-hoopss, 27.7ms\n",
      "Speed: 2.2ms preprocess, 27.7ms inference, 4.9ms postprocess per image at shape (1, 3, 384, 640)\n",
      "Processing frames:   8%|█▉                       | 16/208 [00:02<00:16, 11.32it/s, inference=49.1ms]\n",
      "0: 384x640 1 basketball, 3 basketball-hoopss, 28.3ms\n",
      "Speed: 1.9ms preprocess, 28.3ms inference, 4.3ms postprocess per image at shape (1, 3, 384, 640)\n",
      "Processing frames:   8%|█▉                       | 16/208 [00:02<00:16, 11.32it/s, inference=48.2ms]\n",
      "0: 384x640 1 basketball, 3 basketball-hoopss, 26.8ms\n",
      "Speed: 2.1ms preprocess, 26.8ms inference, 4.6ms postprocess per image at shape (1, 3, 384, 640)\n",
      "Processing frames:   9%|██▏                      | 18/208 [00:03<00:15, 12.18it/s, inference=46.7ms]\n"
     ]
    },
    {
     "name": "stdout",
     "output_type": "stream",
     "text": [
      "[3]:   (1093, 429)      (1093, 429)\n",
      "[3]:   (1093, 429)      (1093, 429)\n",
      "[3]:   (1093, 429)      (1093, 429)\n"
     ]
    },
    {
     "name": "stderr",
     "output_type": "stream",
     "text": [
      "0: 384x640 1 basketball, 3 basketball-hoopss, 26.3ms\n",
      "Speed: 2.1ms preprocess, 26.3ms inference, 4.4ms postprocess per image at shape (1, 3, 384, 640)\n",
      "Processing frames:   9%|██▏                      | 18/208 [00:03<00:15, 12.18it/s, inference=46.1ms]\n",
      "0: 384x640 1 basketball, 3 basketball-hoopss, 28.2ms\n",
      "Speed: 2.4ms preprocess, 28.2ms inference, 4.9ms postprocess per image at shape (1, 3, 384, 640)\n",
      "Processing frames:  10%|██▍                      | 20/208 [00:03<00:14, 12.83it/s, inference=50.1ms]\n",
      "0: 384x640 1 basketball, 3 basketball-hoopss, 29.2ms\n",
      "Speed: 1.9ms preprocess, 29.2ms inference, 4.3ms postprocess per image at shape (1, 3, 384, 640)\n",
      "Processing frames:  10%|██▍                      | 20/208 [00:03<00:14, 12.83it/s, inference=48.9ms]\n"
     ]
    },
    {
     "name": "stdout",
     "output_type": "stream",
     "text": [
      "[3]:   (1093, 429)      (1093, 429)\n",
      "[3]:   (1093, 429)      (1093, 429)\n",
      "[3]:   (1093, 429)      (1093, 429)\n"
     ]
    },
    {
     "name": "stderr",
     "output_type": "stream",
     "text": [
      "0: 384x640 2 basketballs, 3 basketball-hoopss, 28.1ms\n",
      "Speed: 1.9ms preprocess, 28.1ms inference, 4.5ms postprocess per image at shape (1, 3, 384, 640)\n",
      "Processing frames:  11%|██▋                      | 22/208 [00:03<00:14, 13.25it/s, inference=51.2ms]\n",
      "0: 384x640 2 basketballs, 3 basketball-hoopss, 28.7ms\n",
      "Speed: 3.7ms preprocess, 28.7ms inference, 4.7ms postprocess per image at shape (1, 3, 384, 640)\n",
      "Processing frames:  11%|██▋                      | 22/208 [00:03<00:14, 13.25it/s, inference=53.6ms]\n",
      "0: 384x640 2 basketballs, 3 basketball-hoopss, 30.2ms\n",
      "Speed: 2.3ms preprocess, 30.2ms inference, 4.8ms postprocess per image at shape (1, 3, 384, 640)\n",
      "Processing frames:  12%|██▉                      | 24/208 [00:03<00:13, 13.20it/s, inference=53.1ms]\n"
     ]
    },
    {
     "name": "stdout",
     "output_type": "stream",
     "text": [
      "[2]:   (1093, 429)      (425, 528)\n",
      "[4]:   (425, 528)      (1093, 429)\n",
      "[2]:   (1093, 429)      (421, 558)\n",
      "[4]:   (421, 558)      (1093, 429)\n",
      "[2]:   (1093, 429)      (412, 597)\n",
      "[4]:   (412, 597)      (1093, 429)\n"
     ]
    },
    {
     "name": "stderr",
     "output_type": "stream",
     "text": [
      "0: 384x640 2 basketballs, 3 basketball-hoopss, 29.8ms\n",
      "Speed: 2.1ms preprocess, 29.8ms inference, 5.0ms postprocess per image at shape (1, 3, 384, 640)\n",
      "Processing frames:  12%|██▉                      | 24/208 [00:03<00:13, 13.20it/s, inference=54.0ms]\n",
      "0: 384x640 2 basketballs, 3 basketball-hoopss, 28.6ms\n",
      "Speed: 2.2ms preprocess, 28.6ms inference, 4.2ms postprocess per image at shape (1, 3, 384, 640)\n",
      "Processing frames:  12%|███▏                     | 26/208 [00:03<00:13, 13.37it/s, inference=50.2ms]\n",
      "0: 384x640 2 basketballs, 3 basketball-hoopss, 27.0ms\n",
      "Speed: 1.8ms preprocess, 27.0ms inference, 4.7ms postprocess per image at shape (1, 3, 384, 640)\n",
      "Processing frames:  12%|███▏                     | 26/208 [00:03<00:13, 13.37it/s, inference=48.5ms]\n"
     ]
    },
    {
     "name": "stdout",
     "output_type": "stream",
     "text": [
      "[3]:   (1093, 429)      (403, 643)\n",
      "[4]:   (403, 643)      (1093, 429)\n",
      "[3]:   (1093, 429)      (391, 692)\n",
      "[4]:   (391, 692)      (1093, 429)\n",
      "[0]:   (1093, 429)      (384, 688)\n",
      "[4]:   (384, 688)      (1093, 429)\n"
     ]
    },
    {
     "name": "stderr",
     "output_type": "stream",
     "text": [
      "0: 384x640 2 basketballs, 3 basketball-hoopss, 27.1ms\n",
      "Speed: 2.1ms preprocess, 27.1ms inference, 4.3ms postprocess per image at shape (1, 3, 384, 640)\n",
      "Processing frames:  13%|███▎                     | 28/208 [00:03<00:13, 13.69it/s, inference=49.0ms]\n",
      "0: 384x640 2 basketballs, 3 basketball-hoopss, 28.2ms\n",
      "Speed: 2.0ms preprocess, 28.2ms inference, 4.4ms postprocess per image at shape (1, 3, 384, 640)\n",
      "Processing frames:  13%|███▎                     | 28/208 [00:03<00:13, 13.69it/s, inference=49.9ms]\n",
      "0: 384x640 1 basketball, 3 basketball-hoopss, 27.0ms\n",
      "Speed: 2.0ms preprocess, 27.0ms inference, 4.4ms postprocess per image at shape (1, 3, 384, 640)\n",
      "Processing frames:  14%|███▌                     | 30/208 [00:03<00:12, 13.93it/s, inference=46.7ms]\n"
     ]
    },
    {
     "name": "stdout",
     "output_type": "stream",
     "text": [
      "[2]:   (1093, 429)      (377, 663)\n",
      "[4]:   (377, 663)      (1093, 429)\n",
      "[3]:   (1093, 429)      (1093, 429)\n",
      "[4]:   (1093, 429)      (370, 645)\n",
      "[3]:   (370, 645)      (1093, 429)\n"
     ]
    },
    {
     "name": "stderr",
     "output_type": "stream",
     "text": [
      "0: 384x640 1 basketball, 3 basketball-hoopss, 28.0ms\n",
      "Speed: 2.1ms preprocess, 28.0ms inference, 4.8ms postprocess per image at shape (1, 3, 384, 640)\n",
      "Processing frames:  14%|███▌                     | 30/208 [00:03<00:12, 13.93it/s, inference=48.7ms]\n",
      "0: 384x640 1 basketball, 3 basketball-hoopss, 29.9ms\n",
      "Speed: 2.0ms preprocess, 29.9ms inference, 4.7ms postprocess per image at shape (1, 3, 384, 640)\n",
      "Processing frames:  15%|███▊                     | 32/208 [00:04<00:12, 14.02it/s, inference=50.5ms]\n",
      "0: 384x640 1 basketball, 3 basketball-hoopss, 27.3ms\n",
      "Speed: 1.9ms preprocess, 27.3ms inference, 4.5ms postprocess per image at shape (1, 3, 384, 640)\n",
      "Processing frames:  15%|███▊                     | 32/208 [00:04<00:12, 14.02it/s, inference=47.2ms]\n"
     ]
    },
    {
     "name": "stdout",
     "output_type": "stream",
     "text": [
      "[3]:   (1093, 429)      (1093, 429)\n",
      "[3]:   (1093, 429)      (1093, 429)\n",
      "[3]:   (1093, 429)      (1093, 429)\n"
     ]
    },
    {
     "name": "stderr",
     "output_type": "stream",
     "text": [
      "0: 384x640 1 basketball, 3 basketball-hoopss, 27.4ms\n",
      "Speed: 1.8ms preprocess, 27.4ms inference, 4.4ms postprocess per image at shape (1, 3, 384, 640)\n",
      "Processing frames:  16%|████                     | 34/208 [00:04<00:12, 14.26it/s, inference=47.1ms]\n",
      "0: 384x640 1 basketball, 3 basketball-hoopss, 26.5ms\n",
      "Speed: 2.5ms preprocess, 26.5ms inference, 4.5ms postprocess per image at shape (1, 3, 384, 640)\n",
      "Processing frames:  16%|████                     | 34/208 [00:04<00:12, 14.26it/s, inference=48.0ms]\n",
      "0: 384x640 1 basketball, 3 basketball-hoopss, 29.9ms\n",
      "Speed: 2.1ms preprocess, 29.9ms inference, 4.7ms postprocess per image at shape (1, 3, 384, 640)\n",
      "Processing frames:  17%|████▎                    | 36/208 [00:04<00:12, 14.24it/s, inference=52.5ms]\n"
     ]
    },
    {
     "name": "stdout",
     "output_type": "stream",
     "text": [
      "[3]:   (1093, 429)      (1093, 429)\n",
      "[3]:   (1093, 429)      (1093, 429)\n",
      "[3]:   (1093, 429)      (1093, 429)\n"
     ]
    },
    {
     "name": "stderr",
     "output_type": "stream",
     "text": [
      "0: 384x640 1 basketball, 3 basketball-hoopss, 26.9ms\n",
      "Speed: 2.0ms preprocess, 26.9ms inference, 4.5ms postprocess per image at shape (1, 3, 384, 640)\n",
      "Processing frames:  17%|████▎                    | 36/208 [00:04<00:12, 14.24it/s, inference=47.5ms]\n",
      "0: 384x640 1 basketball, 3 basketball-hoopss, 26.4ms\n",
      "Speed: 2.1ms preprocess, 26.4ms inference, 4.5ms postprocess per image at shape (1, 3, 384, 640)\n",
      "Processing frames:  18%|████▌                    | 38/208 [00:04<00:11, 14.38it/s, inference=47.4ms]\n",
      "0: 384x640 1 basketball, 3 basketball-hoopss, 27.5ms\n",
      "Speed: 2.2ms preprocess, 27.5ms inference, 4.2ms postprocess per image at shape (1, 3, 384, 640)\n",
      "Processing frames:  18%|████▌                    | 38/208 [00:04<00:11, 14.38it/s, inference=47.7ms]\n"
     ]
    },
    {
     "name": "stdout",
     "output_type": "stream",
     "text": [
      "[3]:   (1093, 429)      (1093, 429)\n",
      "[3]:   (1093, 429)      (1093, 429)\n",
      "[3]:   (1093, 429)      (1093, 429)\n"
     ]
    },
    {
     "name": "stderr",
     "output_type": "stream",
     "text": [
      "0: 384x640 1 basketball, 3 basketball-hoopss, 29.5ms\n",
      "Speed: 1.9ms preprocess, 29.5ms inference, 4.3ms postprocess per image at shape (1, 3, 384, 640)\n",
      "Processing frames:  19%|████▊                    | 40/208 [00:04<00:11, 14.42it/s, inference=49.7ms]\n",
      "0: 384x640 1 basketball, 3 basketball-hoopss, 27.7ms\n",
      "Speed: 2.1ms preprocess, 27.7ms inference, 4.6ms postprocess per image at shape (1, 3, 384, 640)\n",
      "Processing frames:  19%|████▊                    | 40/208 [00:04<00:11, 14.42it/s, inference=49.2ms]\n",
      "0: 384x640 1 basketball, 3 basketball-hoopss, 26.4ms\n",
      "Speed: 2.0ms preprocess, 26.4ms inference, 4.7ms postprocess per image at shape (1, 3, 384, 640)\n",
      "Processing frames:  20%|█████                    | 42/208 [00:04<00:11, 14.44it/s, inference=48.0ms]\n"
     ]
    },
    {
     "name": "stdout",
     "output_type": "stream",
     "text": [
      "[3]:   (1093, 429)      (1093, 429)\n",
      "[3]:   (1093, 429)      (1093, 429)\n",
      "[3]:   (1093, 429)      (1093, 429)\n"
     ]
    },
    {
     "name": "stderr",
     "output_type": "stream",
     "text": [
      "0: 384x640 1 basketball, 3 basketball-hoopss, 29.8ms\n",
      "Speed: 2.1ms preprocess, 29.8ms inference, 4.3ms postprocess per image at shape (1, 3, 384, 640)\n",
      "Processing frames:  20%|█████                    | 42/208 [00:04<00:11, 14.44it/s, inference=51.3ms]\n",
      "0: 384x640 1 basketball, 3 basketball-hoopss, 27.2ms\n",
      "Speed: 2.0ms preprocess, 27.2ms inference, 4.7ms postprocess per image at shape (1, 3, 384, 640)\n",
      "Processing frames:  21%|█████▎                   | 44/208 [00:04<00:11, 14.39it/s, inference=48.7ms]\n",
      "0: 384x640 1 basketball, 3 basketball-hoopss, 28.7ms\n",
      "Speed: 2.1ms preprocess, 28.7ms inference, 4.2ms postprocess per image at shape (1, 3, 384, 640)\n",
      "Processing frames:  21%|█████▎                   | 44/208 [00:04<00:11, 14.39it/s, inference=48.1ms]\n"
     ]
    },
    {
     "name": "stdout",
     "output_type": "stream",
     "text": [
      "[3]:   (1093, 429)      (1093, 429)\n",
      "[3]:   (1093, 429)      (1093, 429)\n",
      "[3]:   (1093, 429)      (1093, 429)\n"
     ]
    },
    {
     "name": "stderr",
     "output_type": "stream",
     "text": [
      "0: 384x640 1 basketball, 3 basketball-hoopss, 27.5ms\n",
      "Speed: 2.3ms preprocess, 27.5ms inference, 4.4ms postprocess per image at shape (1, 3, 384, 640)\n",
      "Processing frames:  22%|█████▌                   | 46/208 [00:04<00:11, 14.44it/s, inference=48.7ms]\n",
      "0: 384x640 1 basketball, 3 basketball-hoopss, 28.1ms\n",
      "Speed: 2.1ms preprocess, 28.1ms inference, 4.4ms postprocess per image at shape (1, 3, 384, 640)\n",
      "Processing frames:  22%|█████▌                   | 46/208 [00:05<00:11, 14.44it/s, inference=49.9ms]\n",
      "0: 384x640 1 basketball, 3 basketball-hoopss, 26.6ms\n",
      "Speed: 2.0ms preprocess, 26.6ms inference, 4.5ms postprocess per image at shape (1, 3, 384, 640)\n",
      "Processing frames:  23%|█████▊                   | 48/208 [00:05<00:11, 14.44it/s, inference=48.1ms]\n"
     ]
    },
    {
     "name": "stdout",
     "output_type": "stream",
     "text": [
      "[3]:   (1093, 429)      (1093, 429)\n",
      "[3]:   (1093, 429)      (1093, 429)\n",
      "[3]:   (1093, 429)      (1093, 429)\n"
     ]
    },
    {
     "name": "stderr",
     "output_type": "stream",
     "text": [
      "0: 384x640 1 basketball, 3 basketball-hoopss, 28.5ms\n",
      "Speed: 2.1ms preprocess, 28.5ms inference, 4.4ms postprocess per image at shape (1, 3, 384, 640)\n",
      "Processing frames:  23%|█████▊                   | 48/208 [00:05<00:11, 14.44it/s, inference=50.1ms]\n",
      "0: 384x640 1 basketball, 3 basketball-hoopss, 29.5ms\n",
      "Speed: 2.1ms preprocess, 29.5ms inference, 5.4ms postprocess per image at shape (1, 3, 384, 640)\n",
      "Processing frames:  24%|██████                   | 50/208 [00:05<00:11, 14.29it/s, inference=53.3ms]\n",
      "0: 384x640 1 basketball, 3 basketball-hoopss, 29.0ms\n",
      "Speed: 2.0ms preprocess, 29.0ms inference, 4.4ms postprocess per image at shape (1, 3, 384, 640)\n",
      "Processing frames:  24%|██████                   | 50/208 [00:05<00:11, 14.29it/s, inference=50.4ms]\n"
     ]
    },
    {
     "name": "stdout",
     "output_type": "stream",
     "text": [
      "[3]:   (1093, 429)      (1093, 429)\n",
      "[3]:   (1093, 429)      (1093, 429)\n",
      "[3]:   (1093, 429)      (1093, 429)\n"
     ]
    },
    {
     "name": "stderr",
     "output_type": "stream",
     "text": [
      "0: 384x640 1 basketball, 3 basketball-hoopss, 26.7ms\n",
      "Speed: 2.1ms preprocess, 26.7ms inference, 4.5ms postprocess per image at shape (1, 3, 384, 640)\n",
      "Processing frames:  25%|██████▎                  | 52/208 [00:05<00:10, 14.33it/s, inference=48.3ms]\n",
      "0: 384x640 1 basketball, 3 basketball-hoopss, 26.6ms\n",
      "Speed: 1.8ms preprocess, 26.6ms inference, 4.9ms postprocess per image at shape (1, 3, 384, 640)\n",
      "Processing frames:  25%|██████▎                  | 52/208 [00:05<00:10, 14.33it/s, inference=47.7ms]\n",
      "0: 384x640 1 basketball, 3 basketball-hoopss, 29.8ms\n",
      "Speed: 2.2ms preprocess, 29.8ms inference, 4.4ms postprocess per image at shape (1, 3, 384, 640)\n",
      "Processing frames:  26%|██████▍                  | 54/208 [00:05<00:10, 14.30it/s, inference=51.9ms]\n"
     ]
    },
    {
     "name": "stdout",
     "output_type": "stream",
     "text": [
      "[3]:   (1093, 429)      (1093, 429)\n",
      "[3]:   (1093, 429)      (1093, 429)\n",
      "[3]:   (1093, 429)      (1093, 429)\n"
     ]
    },
    {
     "name": "stderr",
     "output_type": "stream",
     "text": [
      "0: 384x640 1 basketball, 3 basketball-hoopss, 26.8ms\n",
      "Speed: 2.1ms preprocess, 26.8ms inference, 4.4ms postprocess per image at shape (1, 3, 384, 640)\n",
      "Processing frames:  26%|██████▍                  | 54/208 [00:05<00:10, 14.30it/s, inference=48.5ms]\n",
      "0: 384x640 1 basketball, 3 basketball-hoopss, 29.9ms\n",
      "Speed: 2.1ms preprocess, 29.9ms inference, 6.3ms postprocess per image at shape (1, 3, 384, 640)\n",
      "Processing frames:  27%|██████▋                  | 56/208 [00:05<00:10, 14.22it/s, inference=53.2ms]\n",
      "0: 384x640 1 basketball, 3 basketball-hoopss, 28.3ms\n",
      "Speed: 2.1ms preprocess, 28.3ms inference, 4.4ms postprocess per image at shape (1, 3, 384, 640)\n",
      "Processing frames:  27%|██████▋                  | 56/208 [00:05<00:10, 14.22it/s, inference=49.6ms]\n"
     ]
    },
    {
     "name": "stdout",
     "output_type": "stream",
     "text": [
      "[3]:   (1093, 429)      (1093, 429)\n",
      "[3]:   (1093, 429)      (1093, 429)\n",
      "[3]:   (1093, 429)      (1093, 429)\n"
     ]
    },
    {
     "name": "stderr",
     "output_type": "stream",
     "text": [
      "0: 384x640 1 basketball, 3 basketball-hoopss, 28.0ms\n",
      "Speed: 2.0ms preprocess, 28.0ms inference, 4.4ms postprocess per image at shape (1, 3, 384, 640)\n",
      "Processing frames:  28%|██████▉                  | 58/208 [00:05<00:10, 14.23it/s, inference=49.9ms]\n",
      "0: 384x640 1 basketball, 3 basketball-hoopss, 26.9ms\n",
      "Speed: 2.0ms preprocess, 26.9ms inference, 4.5ms postprocess per image at shape (1, 3, 384, 640)\n",
      "Processing frames:  28%|██████▉                  | 58/208 [00:05<00:10, 14.23it/s, inference=48.6ms]\n",
      "0: 384x640 1 basketball, 3 basketball-hoopss, 28.3ms\n",
      "Speed: 2.1ms preprocess, 28.3ms inference, 4.4ms postprocess per image at shape (1, 3, 384, 640)\n",
      "Processing frames:  29%|███████▏                 | 60/208 [00:05<00:10, 14.26it/s, inference=50.0ms]\n"
     ]
    },
    {
     "name": "stdout",
     "output_type": "stream",
     "text": [
      "[3]:   (1093, 429)      (1093, 429)\n",
      "[3]:   (1093, 429)      (1093, 429)\n",
      "[3]:   (1093, 429)      (1093, 429)\n"
     ]
    },
    {
     "name": "stderr",
     "output_type": "stream",
     "text": [
      "0: 384x640 1 basketball, 3 basketball-hoopss, 26.3ms\n",
      "Speed: 2.1ms preprocess, 26.3ms inference, 5.6ms postprocess per image at shape (1, 3, 384, 640)\n",
      "Processing frames:  29%|███████▏                 | 60/208 [00:06<00:10, 14.26it/s, inference=48.4ms]\n",
      "0: 384x640 1 basketball, 3 basketball-hoopss, 26.6ms\n",
      "Speed: 2.1ms preprocess, 26.6ms inference, 4.5ms postprocess per image at shape (1, 3, 384, 640)\n",
      "Processing frames:  30%|███████▍                 | 62/208 [00:06<00:10, 14.36it/s, inference=47.3ms]\n",
      "0: 384x640 2 basketballs, 3 basketball-hoopss, 26.2ms\n",
      "Speed: 2.1ms preprocess, 26.2ms inference, 4.5ms postprocess per image at shape (1, 3, 384, 640)\n",
      "Processing frames:  30%|███████▍                 | 62/208 [00:06<00:10, 14.36it/s, inference=50.1ms]\n"
     ]
    },
    {
     "name": "stdout",
     "output_type": "stream",
     "text": [
      "[3]:   (1093, 429)      (1093, 429)\n",
      "[3]:   (1093, 429)      (1093, 429)\n",
      "[3]:   (1093, 429)      (1093, 429)\n",
      "[4]:   (1093, 429)      (46, 458)\n"
     ]
    },
    {
     "name": "stderr",
     "output_type": "stream",
     "text": [
      "0: 384x640 2 basketballs, 3 basketball-hoopss, 28.6ms\n",
      "Speed: 2.0ms preprocess, 28.6ms inference, 4.4ms postprocess per image at shape (1, 3, 384, 640)\n",
      "Processing frames:  31%|███████▋                 | 64/208 [00:06<00:10, 14.24it/s, inference=52.5ms]\n",
      "0: 384x640 2 basketballs, 3 basketball-hoopss, 28.9ms\n",
      "Speed: 2.2ms preprocess, 28.9ms inference, 4.5ms postprocess per image at shape (1, 3, 384, 640)\n",
      "Processing frames:  31%|███████▋                 | 64/208 [00:06<00:10, 14.24it/s, inference=52.8ms]\n",
      "0: 384x640 1 basketball, 3 basketball-hoopss, 26.3ms\n",
      "Speed: 2.1ms preprocess, 26.3ms inference, 4.5ms postprocess per image at shape (1, 3, 384, 640)\n",
      "Processing frames:  32%|███████▉                 | 66/208 [00:06<00:10, 14.19it/s, inference=48.1ms]\n"
     ]
    },
    {
     "name": "stdout",
     "output_type": "stream",
     "text": [
      "[3]:   (46, 458)      (1093, 429)\n",
      "[4]:   (1093, 429)      (51, 440)\n",
      "[3]:   (51, 440)      (1093, 429)\n",
      "[4]:   (1093, 429)      (60, 411)\n",
      "[3]:   (60, 411)      (1093, 429)\n"
     ]
    },
    {
     "name": "stderr",
     "output_type": "stream",
     "text": [
      "0: 384x640 2 basketballs, 3 basketball-hoopss, 28.6ms\n",
      "Speed: 2.0ms preprocess, 28.6ms inference, 5.2ms postprocess per image at shape (1, 3, 384, 640)\n",
      "Processing frames:  32%|███████▉                 | 66/208 [00:06<00:10, 14.19it/s, inference=54.4ms]\n",
      "0: 384x640 1 basketball, 3 basketball-hoopss, 30.3ms\n",
      "Speed: 2.3ms preprocess, 30.3ms inference, 5.0ms postprocess per image at shape (1, 3, 384, 640)\n",
      "Processing frames:  33%|████████▏                | 68/208 [00:06<00:10, 13.96it/s, inference=52.7ms]\n",
      "0: 384x640 1 basketball, 3 basketball-hoopss, 28.6ms\n",
      "Speed: 2.0ms preprocess, 28.6ms inference, 4.2ms postprocess per image at shape (1, 3, 384, 640)\n",
      "Processing frames:  33%|████████▏                | 68/208 [00:06<00:10, 13.96it/s, inference=48.6ms]\n"
     ]
    },
    {
     "name": "stdout",
     "output_type": "stream",
     "text": [
      "[3]:   (1093, 429)      (1093, 429)\n",
      "[4]:   (1093, 429)      (105, 315)\n",
      "[3]:   (105, 315)      (1093, 429)\n",
      "[3]:   (1093, 429)      (1093, 429)\n"
     ]
    },
    {
     "name": "stderr",
     "output_type": "stream",
     "text": [
      "0: 384x640 1 basketball, 3 basketball-hoopss, 27.5ms\n",
      "Speed: 2.0ms preprocess, 27.5ms inference, 5.0ms postprocess per image at shape (1, 3, 384, 640)\n",
      "Processing frames:  34%|████████▍                | 70/208 [00:06<00:09, 14.11it/s, inference=49.0ms]\n",
      "0: 384x640 2 basketballs, 3 basketball-hoopss, 27.7ms\n",
      "Speed: 2.2ms preprocess, 27.7ms inference, 4.4ms postprocess per image at shape (1, 3, 384, 640)\n",
      "Processing frames:  34%|████████▍                | 70/208 [00:06<00:09, 14.11it/s, inference=50.9ms]\n",
      "0: 384x640 2 basketballs, 3 basketball-hoopss, 29.2ms\n",
      "Speed: 1.9ms preprocess, 29.2ms inference, 4.4ms postprocess per image at shape (1, 3, 384, 640)\n",
      "Processing frames:  35%|████████▋                | 72/208 [00:06<00:09, 14.00it/s, inference=53.3ms]\n"
     ]
    },
    {
     "name": "stdout",
     "output_type": "stream",
     "text": [
      "[3]:   (1093, 429)      (1093, 429)\n",
      "[2]:   (1093, 429)      (228, 157)\n",
      "[4]:   (228, 157)      (1093, 429)\n",
      "[2]:   (1093, 429)      (247, 131)\n",
      "[4]:   (247, 131)      (1093, 429)\n"
     ]
    },
    {
     "name": "stderr",
     "output_type": "stream",
     "text": [
      "0: 384x640 2 basketballs, 3 basketball-hoopss, 28.1ms\n",
      "Speed: 2.1ms preprocess, 28.1ms inference, 4.4ms postprocess per image at shape (1, 3, 384, 640)\n",
      "Processing frames:  35%|████████▋                | 72/208 [00:06<00:09, 14.00it/s, inference=51.5ms]\n",
      "0: 384x640 2 basketballs, 3 basketball-hoopss, 27.4ms\n",
      "Speed: 2.0ms preprocess, 27.4ms inference, 4.7ms postprocess per image at shape (1, 3, 384, 640)\n",
      "Processing frames:  36%|████████▉                | 74/208 [00:06<00:09, 14.00it/s, inference=51.0ms]\n",
      "0: 384x640 2 basketballs, 3 basketball-hoopss, 29.3ms\n",
      "Speed: 2.0ms preprocess, 29.3ms inference, 4.4ms postprocess per image at shape (1, 3, 384, 640)\n",
      "Processing frames:  36%|████████▉                | 74/208 [00:07<00:09, 14.00it/s, inference=52.9ms]\n"
     ]
    },
    {
     "name": "stdout",
     "output_type": "stream",
     "text": [
      "[3]:   (1093, 429)      (1093, 429)\n",
      "[4]:   (1093, 429)      (268, 109)\n",
      "[2]:   (268, 109)      (287, 91)\n",
      "[4]:   (287, 91)      (1093, 429)\n",
      "[2]:   (1093, 429)      (303, 77)\n",
      "[4]:   (303, 77)      (1093, 429)\n"
     ]
    },
    {
     "name": "stderr",
     "output_type": "stream",
     "text": [
      "0: 384x640 2 basketballs, 3 basketball-hoopss, 26.5ms\n",
      "Speed: 2.1ms preprocess, 26.5ms inference, 4.5ms postprocess per image at shape (1, 3, 384, 640)\n",
      "Processing frames:  37%|█████████▏               | 76/208 [00:07<00:09, 13.95it/s, inference=51.0ms]\n",
      "0: 384x640 2 basketballs, 3 basketball-hoopss, 28.5ms\n",
      "Speed: 2.3ms preprocess, 28.5ms inference, 4.3ms postprocess per image at shape (1, 3, 384, 640)\n",
      "Processing frames:  37%|█████████▏               | 76/208 [00:07<00:09, 13.95it/s, inference=52.8ms]\n",
      "0: 384x640 3 basketballs, 3 basketball-hoopss, 28.9ms\n",
      "Speed: 2.1ms preprocess, 28.9ms inference, 4.8ms postprocess per image at shape (1, 3, 384, 640)\n",
      "Processing frames:  38%|█████████▍               | 78/208 [00:07<00:09, 13.79it/s, inference=55.6ms]\n"
     ]
    },
    {
     "name": "stdout",
     "output_type": "stream",
     "text": [
      "[3]:   (1093, 429)      (320, 65)\n",
      "[4]:   (320, 65)      (1093, 429)\n",
      "[2]:   (1093, 429)      (334, 55)\n",
      "[4]:   (334, 55)      (1093, 429)\n",
      "[2]:   (1093, 429)      (348, 48)\n",
      "[4]:   (348, 48)      (1093, 429)\n",
      "[5]:   (1093, 429)      (137, 329)\n"
     ]
    },
    {
     "name": "stderr",
     "output_type": "stream",
     "text": [
      "0: 384x640 3 basketballs, 3 basketball-hoopss, 29.3ms\n",
      "Speed: 1.9ms preprocess, 29.3ms inference, 4.6ms postprocess per image at shape (1, 3, 384, 640)\n",
      "Processing frames:  38%|█████████▍               | 78/208 [00:07<00:09, 13.79it/s, inference=55.7ms]\n",
      "0: 384x640 3 basketballs, 3 basketball-hoopss, 27.5ms\n",
      "Speed: 2.4ms preprocess, 27.5ms inference, 4.5ms postprocess per image at shape (1, 3, 384, 640)\n",
      "Processing frames:  38%|█████████▌               | 80/208 [00:07<00:09, 13.63it/s, inference=53.6ms]\n",
      "0: 384x640 2 basketballs, 3 basketball-hoopss, 28.8ms\n",
      "Speed: 2.2ms preprocess, 28.8ms inference, 5.0ms postprocess per image at shape (1, 3, 384, 640)\n",
      "Processing frames:  38%|█████████▌               | 80/208 [00:07<00:09, 13.63it/s, inference=53.0ms]\n"
     ]
    },
    {
     "name": "stdout",
     "output_type": "stream",
     "text": [
      "[2]:   (137, 329)      (359, 43)\n",
      "[4]:   (359, 43)      (134, 344)\n",
      "[5]:   (134, 344)      (1093, 429)\n",
      "[2]:   (1093, 429)      (368, 39)\n",
      "[4]:   (368, 39)      (1093, 429)\n",
      "[5]:   (1093, 429)      (134, 359)\n",
      "[2]:   (134, 359)      (379, 37)\n",
      "[4]:   (379, 37)      (1093, 429)\n"
     ]
    },
    {
     "name": "stderr",
     "output_type": "stream",
     "text": [
      "0: 384x640 2 basketballs, 3 basketball-hoopss, 29.0ms\n",
      "Speed: 2.1ms preprocess, 29.0ms inference, 4.4ms postprocess per image at shape (1, 3, 384, 640)\n",
      "Processing frames:  39%|█████████▊               | 82/208 [00:07<00:09, 13.67it/s, inference=52.3ms]\n",
      "0: 384x640 2 basketballs, 3 basketball-hoopss, 26.2ms\n",
      "Speed: 2.0ms preprocess, 26.2ms inference, 4.8ms postprocess per image at shape (1, 3, 384, 640)\n",
      "Processing frames:  39%|█████████▊               | 82/208 [00:07<00:09, 13.67it/s, inference=49.9ms]\n",
      "0: 384x640 2 basketballs, 3 basketball-hoopss, 29.0ms\n",
      "Speed: 1.9ms preprocess, 29.0ms inference, 4.5ms postprocess per image at shape (1, 3, 384, 640)\n",
      "Processing frames:  40%|██████████               | 84/208 [00:07<00:09, 13.75it/s, inference=52.8ms]\n"
     ]
    },
    {
     "name": "stdout",
     "output_type": "stream",
     "text": [
      "[2]:   (1093, 429)      (388, 37)\n",
      "[4]:   (388, 37)      (1093, 429)\n",
      "[2]:   (1093, 429)      (398, 38)\n",
      "[4]:   (398, 38)      (1093, 429)\n",
      "[3]:   (1093, 429)      (407, 40)\n",
      "[4]:   (407, 40)      (1093, 429)\n"
     ]
    },
    {
     "name": "stderr",
     "output_type": "stream",
     "text": [
      "0: 384x640 2 basketballs, 3 basketball-hoopss, 28.8ms\n",
      "Speed: 1.9ms preprocess, 28.8ms inference, 4.6ms postprocess per image at shape (1, 3, 384, 640)\n",
      "Processing frames:  40%|██████████               | 84/208 [00:07<00:09, 13.75it/s, inference=53.2ms]\n",
      "0: 384x640 2 basketballs, 3 basketball-hoopss, 29.8ms\n",
      "Speed: 2.2ms preprocess, 29.8ms inference, 5.0ms postprocess per image at shape (1, 3, 384, 640)\n",
      "Processing frames:  41%|██████████▎              | 86/208 [00:07<00:08, 13.63it/s, inference=54.3ms]\n",
      "0: 384x640 2 basketballs, 3 basketball-hoopss, 29.8ms\n",
      "Speed: 1.9ms preprocess, 29.8ms inference, 4.6ms postprocess per image at shape (1, 3, 384, 640)\n",
      "Processing frames:  41%|██████████▎              | 86/208 [00:07<00:08, 13.63it/s, inference=53.6ms]\n"
     ]
    },
    {
     "name": "stdout",
     "output_type": "stream",
     "text": [
      "[3]:   (1093, 429)      (1093, 429)\n",
      "[4]:   (1093, 429)      (415, 46)\n",
      "[2]:   (415, 46)      (423, 49)\n",
      "[4]:   (423, 49)      (1093, 429)\n",
      "[3]:   (1093, 429)      (430, 53)\n",
      "[4]:   (430, 53)      (1093, 429)\n"
     ]
    },
    {
     "name": "stderr",
     "output_type": "stream",
     "text": [
      "0: 384x640 2 basketballs, 3 basketball-hoopss, 26.2ms\n",
      "Speed: 2.1ms preprocess, 26.2ms inference, 5.1ms postprocess per image at shape (1, 3, 384, 640)\n",
      "Processing frames:  42%|██████████▌              | 88/208 [00:08<00:08, 13.68it/s, inference=51.3ms]\n",
      "0: 384x640 2 basketballs, 3 basketball-hoopss, 28.0ms\n",
      "Speed: 2.0ms preprocess, 28.0ms inference, 4.8ms postprocess per image at shape (1, 3, 384, 640)\n",
      "Processing frames:  42%|██████████▌              | 88/208 [00:08<00:08, 13.68it/s, inference=52.2ms]\n",
      "0: 384x640 2 basketballs, 3 basketball-hoopss, 29.3ms\n",
      "Speed: 1.9ms preprocess, 29.3ms inference, 5.1ms postprocess per image at shape (1, 3, 384, 640)\n",
      "Processing frames:  43%|██████████▊              | 90/208 [00:08<00:08, 13.67it/s, inference=53.7ms]\n"
     ]
    },
    {
     "name": "stdout",
     "output_type": "stream",
     "text": [
      "[3]:   (1093, 429)      (436, 59)\n",
      "[4]:   (436, 59)      (1093, 429)\n",
      "[2]:   (1093, 429)      (443, 66)\n",
      "[4]:   (443, 66)      (1093, 429)\n",
      "[3]:   (1093, 429)      (449, 74)\n",
      "[4]:   (449, 74)      (1093, 429)\n"
     ]
    },
    {
     "name": "stderr",
     "output_type": "stream",
     "text": [
      "0: 384x640 2 basketballs, 3 basketball-hoopss, 30.1ms\n",
      "Speed: 2.0ms preprocess, 30.1ms inference, 5.1ms postprocess per image at shape (1, 3, 384, 640)\n",
      "Processing frames:  43%|██████████▊              | 90/208 [00:08<00:08, 13.67it/s, inference=54.9ms]\n",
      "0: 384x640 2 basketballs, 3 basketball-hoopss, 29.8ms\n",
      "Speed: 2.2ms preprocess, 29.8ms inference, 5.1ms postprocess per image at shape (1, 3, 384, 640)\n",
      "Processing frames:  44%|███████████              | 92/208 [00:08<00:08, 13.54it/s, inference=55.0ms]\n",
      "0: 384x640 2 basketballs, 3 basketball-hoopss, 29.1ms\n",
      "Speed: 2.0ms preprocess, 29.1ms inference, 4.4ms postprocess per image at shape (1, 3, 384, 640)\n",
      "Processing frames:  44%|███████████              | 92/208 [00:08<00:08, 13.54it/s, inference=53.3ms]\n"
     ]
    },
    {
     "name": "stdout",
     "output_type": "stream",
     "text": [
      "[3]:   (1093, 429)      (454, 82)\n",
      "[4]:   (454, 82)      (1093, 429)\n",
      "[3]:   (1093, 429)      (459, 90)\n",
      "[4]:   (459, 90)      (1093, 429)\n",
      "[3]:   (1093, 429)      (465, 99)\n",
      "[4]:   (465, 99)      (1093, 429)\n"
     ]
    },
    {
     "name": "stderr",
     "output_type": "stream",
     "text": [
      "0: 384x640 2 basketballs, 3 basketball-hoopss, 30.0ms\n",
      "Speed: 2.4ms preprocess, 30.0ms inference, 4.5ms postprocess per image at shape (1, 3, 384, 640)\n",
      "Processing frames:  45%|███████████▎             | 94/208 [00:08<00:08, 13.48it/s, inference=56.1ms]\n",
      "0: 384x640 2 basketballs, 3 basketball-hoopss, 29.3ms\n",
      "Speed: 2.2ms preprocess, 29.3ms inference, 4.6ms postprocess per image at shape (1, 3, 384, 640)\n",
      "Processing frames:  45%|███████████▎             | 94/208 [00:08<00:08, 13.48it/s, inference=53.2ms]\n",
      "0: 384x640 2 basketballs, 3 basketball-hoopss, 26.6ms\n",
      "Speed: 2.1ms preprocess, 26.6ms inference, 4.5ms postprocess per image at shape (1, 3, 384, 640)\n",
      "Processing frames:  46%|███████████▌             | 96/208 [00:08<00:08, 13.64it/s, inference=49.3ms]\n"
     ]
    },
    {
     "name": "stdout",
     "output_type": "stream",
     "text": [
      "[2]:   (1093, 429)      (470, 108)\n",
      "[4]:   (470, 108)      (1093, 429)\n",
      "[3]:   (1093, 429)      (474, 118)\n",
      "[4]:   (474, 118)      (1093, 430)\n",
      "[2]:   (1093, 430)      (478, 128)\n",
      "[4]:   (478, 128)      (1093, 430)\n"
     ]
    },
    {
     "name": "stderr",
     "output_type": "stream",
     "text": [
      "0: 384x640 2 basketballs, 3 basketball-hoopss, 27.3ms\n",
      "Speed: 2.0ms preprocess, 27.3ms inference, 4.9ms postprocess per image at shape (1, 3, 384, 640)\n",
      "Processing frames:  46%|███████████▌             | 96/208 [00:08<00:08, 13.64it/s, inference=52.6ms]\n",
      "0: 384x640 2 basketballs, 3 basketball-hoopss, 28.2ms\n",
      "Speed: 2.1ms preprocess, 28.2ms inference, 4.3ms postprocess per image at shape (1, 3, 384, 640)\n",
      "Processing frames:  47%|███████████▊             | 98/208 [00:08<00:08, 13.70it/s, inference=51.6ms]\n",
      "0: 384x640 2 basketballs, 3 basketball-hoopss, 28.6ms\n",
      "Speed: 2.2ms preprocess, 28.6ms inference, 4.9ms postprocess per image at shape (1, 3, 384, 640)\n",
      "Processing frames:  47%|███████████▊             | 98/208 [00:08<00:08, 13.70it/s, inference=53.0ms]\n"
     ]
    },
    {
     "name": "stdout",
     "output_type": "stream",
     "text": [
      "[2]:   (1093, 430)      (482, 140)\n",
      "[4]:   (482, 140)      (1093, 430)\n",
      "[3]:   (1093, 430)      (1093, 430)\n",
      "[4]:   (1093, 430)      (485, 150)\n",
      "[3]:   (485, 150)      (1093, 430)\n",
      "[4]:   (1093, 430)      (490, 162)\n"
     ]
    },
    {
     "name": "stderr",
     "output_type": "stream",
     "text": [
      "0: 384x640 2 basketballs, 3 basketball-hoopss, 30.1ms\n",
      "Speed: 2.2ms preprocess, 30.1ms inference, 4.6ms postprocess per image at shape (1, 3, 384, 640)\n",
      "Processing frames:  48%|███████████▌            | 100/208 [00:08<00:07, 13.66it/s, inference=53.7ms]\n",
      "0: 384x640 2 basketballs, 3 basketball-hoopss, 30.3ms\n",
      "Speed: 2.3ms preprocess, 30.3ms inference, 5.4ms postprocess per image at shape (1, 3, 384, 640)\n",
      "Processing frames:  48%|███████████▌            | 100/208 [00:08<00:07, 13.66it/s, inference=54.6ms]\n",
      "0: 384x640 2 basketballs, 3 basketball-hoopss, 28.7ms\n",
      "Speed: 2.3ms preprocess, 28.7ms inference, 4.7ms postprocess per image at shape (1, 3, 384, 640)\n",
      "Processing frames:  49%|███████████▊            | 102/208 [00:09<00:07, 13.57it/s, inference=53.3ms]\n"
     ]
    },
    {
     "name": "stdout",
     "output_type": "stream",
     "text": [
      "[3]:   (490, 162)      (493, 174)\n",
      "[4]:   (493, 174)      (1093, 430)\n",
      "[2]:   (1093, 430)      (496, 187)\n",
      "[4]:   (496, 187)      (1093, 430)\n",
      "[2]:   (1093, 430)      (500, 200)\n",
      "[4]:   (500, 200)      (1093, 430)\n"
     ]
    },
    {
     "name": "stderr",
     "output_type": "stream",
     "text": [
      "0: 384x640 2 basketballs, 3 basketball-hoopss, 29.5ms\n",
      "Speed: 2.0ms preprocess, 29.5ms inference, 4.4ms postprocess per image at shape (1, 3, 384, 640)\n",
      "Processing frames:  49%|███████████▊            | 102/208 [00:09<00:07, 13.57it/s, inference=54.2ms]\n",
      "0: 384x640 2 basketballs, 3 basketball-hoopss, 30.0ms\n",
      "Speed: 2.3ms preprocess, 30.0ms inference, 4.9ms postprocess per image at shape (1, 3, 384, 640)\n",
      "Processing frames:  50%|████████████            | 104/208 [00:09<00:07, 13.51it/s, inference=54.4ms]\n",
      "0: 384x640 2 basketballs, 3 basketball-hoopss, 29.2ms\n",
      "Speed: 2.1ms preprocess, 29.2ms inference, 4.5ms postprocess per image at shape (1, 3, 384, 640)\n",
      "Processing frames:  50%|████████████            | 104/208 [00:09<00:07, 13.51it/s, inference=52.8ms]\n"
     ]
    },
    {
     "name": "stdout",
     "output_type": "stream",
     "text": [
      "[2]:   (1093, 430)      (503, 213)\n",
      "[4]:   (503, 213)      (1093, 430)\n",
      "[2]:   (1093, 430)      (505, 227)\n",
      "[4]:   (505, 227)      (1093, 430)\n",
      "[0]:   (1093, 430)      (507, 241)\n",
      "[4]:   (507, 241)      (1093, 430)\n"
     ]
    },
    {
     "name": "stderr",
     "output_type": "stream",
     "text": [
      "0: 384x640 2 basketballs, 3 basketball-hoopss, 26.2ms\n",
      "Speed: 2.1ms preprocess, 26.2ms inference, 4.8ms postprocess per image at shape (1, 3, 384, 640)\n",
      "Processing frames:  51%|████████████▏           | 106/208 [00:09<00:07, 13.61it/s, inference=51.2ms]\n",
      "0: 384x640 2 basketballs, 3 basketball-hoopss, 27.6ms\n",
      "Speed: 2.2ms preprocess, 27.6ms inference, 4.8ms postprocess per image at shape (1, 3, 384, 640)\n",
      "Processing frames:  51%|████████████▏           | 106/208 [00:09<00:07, 13.61it/s, inference=51.6ms]\n",
      "0: 384x640 2 basketballs, 3 basketball-hoopss, 29.7ms\n",
      "Speed: 2.2ms preprocess, 29.7ms inference, 4.4ms postprocess per image at shape (1, 3, 384, 640)\n",
      "Processing frames:  52%|████████████▍           | 108/208 [00:09<00:07, 13.65it/s, inference=53.7ms]\n"
     ]
    },
    {
     "name": "stdout",
     "output_type": "stream",
     "text": [
      "[2]:   (1093, 430)      (510, 253)\n",
      "[4]:   (510, 253)      (1093, 430)\n",
      "[3]:   (1093, 430)      (1093, 430)\n",
      "[4]:   (1093, 430)      (512, 267)\n",
      "[3]:   (512, 267)      (1093, 430)\n",
      "[4]:   (1093, 430)      (516, 281)\n"
     ]
    },
    {
     "name": "stderr",
     "output_type": "stream",
     "text": [
      "0: 384x640 2 basketballs, 3 basketball-hoopss, 30.1ms\n",
      "Speed: 1.9ms preprocess, 30.1ms inference, 4.4ms postprocess per image at shape (1, 3, 384, 640)\n",
      "Processing frames:  52%|████████████▍           | 108/208 [00:09<00:07, 13.65it/s, inference=53.9ms]\n",
      "0: 384x640 2 basketballs, 3 basketball-hoopss, 26.2ms\n",
      "Speed: 2.1ms preprocess, 26.2ms inference, 4.8ms postprocess per image at shape (1, 3, 384, 640)\n",
      "Processing frames:  53%|████████████▋           | 110/208 [00:09<00:07, 13.73it/s, inference=49.3ms]\n",
      "0: 384x640 2 basketballs, 3 basketball-hoopss, 28.7ms\n",
      "Speed: 1.8ms preprocess, 28.7ms inference, 5.0ms postprocess per image at shape (1, 3, 384, 640)\n",
      "Processing frames:  53%|████████████▋           | 110/208 [00:09<00:07, 13.73it/s, inference=52.7ms]\n"
     ]
    },
    {
     "name": "stdout",
     "output_type": "stream",
     "text": [
      "[3]:   (516, 281)      (1093, 430)\n",
      "[4]:   (1093, 430)      (518, 296)\n",
      "[1]:   (518, 296)      (518, 301)\n",
      "[4]:   (518, 301)      (1093, 430)\n",
      "[1]:   (1093, 430)      (519, 304)\n",
      "[3]:   (519, 304)      (1093, 430)\n"
     ]
    },
    {
     "name": "stderr",
     "output_type": "stream",
     "text": [
      "0: 384x640 2 basketballs, 3 basketball-hoopss, 29.4ms\n",
      "Speed: 2.1ms preprocess, 29.4ms inference, 4.7ms postprocess per image at shape (1, 3, 384, 640)\n",
      "Processing frames:  54%|████████████▉           | 112/208 [00:09<00:07, 13.62it/s, inference=54.0ms]\n",
      "0: 384x640 2 basketballs, 3 basketball-hoopss, 28.9ms\n",
      "Speed: 2.0ms preprocess, 28.9ms inference, 4.4ms postprocess per image at shape (1, 3, 384, 640)\n",
      "Processing frames:  54%|████████████▉           | 112/208 [00:09<00:07, 13.62it/s, inference=52.9ms]\n",
      "0: 384x640 2 basketballs, 3 basketball-hoopss, 28.5ms\n",
      "Speed: 2.1ms preprocess, 28.5ms inference, 4.4ms postprocess per image at shape (1, 3, 384, 640)\n",
      "Processing frames:  55%|█████████████▏          | 114/208 [00:09<00:06, 13.65it/s, inference=52.4ms]\n"
     ]
    },
    {
     "name": "stdout",
     "output_type": "stream",
     "text": [
      "[1]:   (1093, 430)      (519, 309)\n",
      "[3]:   (519, 309)      (1093, 430)\n",
      "[1]:   (1093, 430)      (520, 314)\n",
      "[4]:   (520, 314)      (1093, 430)\n",
      "[1]:   (1093, 430)      (521, 319)\n",
      "[4]:   (521, 319)      (1093, 430)\n"
     ]
    },
    {
     "name": "stderr",
     "output_type": "stream",
     "text": [
      "0: 384x640 2 basketballs, 3 basketball-hoopss, 27.4ms\n",
      "Speed: 1.9ms preprocess, 27.4ms inference, 5.8ms postprocess per image at shape (1, 3, 384, 640)\n",
      "Processing frames:  55%|█████████████▏          | 114/208 [00:09<00:06, 13.65it/s, inference=53.3ms]\n",
      "0: 384x640 2 basketballs, 3 basketball-hoopss, 27.7ms\n",
      "Speed: 2.1ms preprocess, 27.7ms inference, 4.9ms postprocess per image at shape (1, 3, 384, 640)\n",
      "Processing frames:  56%|█████████████▍          | 116/208 [00:10<00:06, 13.65it/s, inference=51.7ms]\n",
      "0: 384x640 2 basketballs, 3 basketball-hoopss, 29.1ms\n",
      "Speed: 2.1ms preprocess, 29.1ms inference, 4.4ms postprocess per image at shape (1, 3, 384, 640)\n",
      "Processing frames:  56%|█████████████▍          | 116/208 [00:10<00:06, 13.65it/s, inference=53.2ms]\n"
     ]
    },
    {
     "name": "stdout",
     "output_type": "stream",
     "text": [
      "[1]:   (1093, 430)      (521, 325)\n",
      "[3]:   (521, 325)      (1093, 430)\n",
      "[0]:   (1093, 430)      (521, 331)\n",
      "[3]:   (521, 331)      (1093, 430)\n",
      "[1]:   (1093, 430)      (521, 339)\n",
      "[4]:   (521, 339)      (1093, 430)\n"
     ]
    },
    {
     "name": "stderr",
     "output_type": "stream",
     "text": [
      "0: 384x640 2 basketballs, 3 basketball-hoopss, 29.6ms\n",
      "Speed: 2.3ms preprocess, 29.6ms inference, 4.5ms postprocess per image at shape (1, 3, 384, 640)\n",
      "Processing frames:  57%|█████████████▌          | 118/208 [00:10<00:06, 13.62it/s, inference=54.2ms]\n",
      "0: 384x640 2 basketballs, 3 basketball-hoopss, 29.9ms\n",
      "Speed: 2.0ms preprocess, 29.9ms inference, 5.0ms postprocess per image at shape (1, 3, 384, 640)\n",
      "Processing frames:  57%|█████████████▌          | 118/208 [00:10<00:06, 13.62it/s, inference=54.7ms]\n",
      "0: 384x640 2 basketballs, 3 basketball-hoopss, 28.0ms\n",
      "Speed: 2.3ms preprocess, 28.0ms inference, 4.5ms postprocess per image at shape (1, 3, 384, 640)\n",
      "Processing frames:  58%|█████████████▊          | 120/208 [00:10<00:06, 13.62it/s, inference=51.6ms]\n"
     ]
    },
    {
     "name": "stdout",
     "output_type": "stream",
     "text": [
      "[1]:   (1093, 430)      (522, 347)\n",
      "[4]:   (522, 347)      (1093, 430)\n",
      "[1]:   (1093, 430)      (522, 357)\n",
      "[4]:   (522, 357)      (1093, 430)\n",
      "[1]:   (1093, 430)      (523, 365)\n",
      "[4]:   (523, 365)      (1093, 430)\n"
     ]
    },
    {
     "name": "stderr",
     "output_type": "stream",
     "text": [
      "0: 384x640 2 basketballs, 3 basketball-hoopss, 27.9ms\n",
      "Speed: 1.9ms preprocess, 27.9ms inference, 4.7ms postprocess per image at shape (1, 3, 384, 640)\n",
      "Processing frames:  58%|█████████████▊          | 120/208 [00:10<00:06, 13.62it/s, inference=52.1ms]\n",
      "0: 384x640 2 basketballs, 3 basketball-hoopss, 28.6ms\n",
      "Speed: 2.7ms preprocess, 28.6ms inference, 4.5ms postprocess per image at shape (1, 3, 384, 640)\n",
      "Processing frames:  59%|██████████████          | 122/208 [00:10<00:06, 13.65it/s, inference=53.1ms]\n",
      "0: 384x640 2 basketballs, 3 basketball-hoopss, 30.2ms\n",
      "Speed: 2.0ms preprocess, 30.2ms inference, 5.1ms postprocess per image at shape (1, 3, 384, 640)\n",
      "Processing frames:  59%|██████████████          | 122/208 [00:10<00:06, 13.65it/s, inference=54.3ms]\n"
     ]
    },
    {
     "name": "stdout",
     "output_type": "stream",
     "text": [
      "[3]:   (1093, 430)      (1093, 430)\n",
      "[4]:   (1093, 430)      (523, 375)\n",
      "[1]:   (523, 375)      (523, 385)\n",
      "[4]:   (523, 385)      (1093, 430)\n",
      "[3]:   (1093, 430)      (1093, 430)\n",
      "[4]:   (1093, 430)      (526, 392)\n"
     ]
    },
    {
     "name": "stderr",
     "output_type": "stream",
     "text": [
      "0: 384x640 2 basketballs, 3 basketball-hoopss, 30.3ms\n",
      "Speed: 2.2ms preprocess, 30.3ms inference, 4.7ms postprocess per image at shape (1, 3, 384, 640)\n",
      "Processing frames:  60%|██████████████▎         | 124/208 [00:10<00:06, 13.51it/s, inference=56.3ms]\n",
      "0: 384x640 2 basketballs, 3 basketball-hoopss, 29.3ms\n",
      "Speed: 3.1ms preprocess, 29.3ms inference, 4.5ms postprocess per image at shape (1, 3, 384, 640)\n",
      "Processing frames:  60%|██████████████▎         | 124/208 [00:10<00:06, 13.51it/s, inference=55.0ms]\n",
      "0: 384x640 1 basketball, 3 basketball-hoopss, 29.1ms\n",
      "Speed: 2.0ms preprocess, 29.1ms inference, 4.6ms postprocess per image at shape (1, 3, 384, 640)\n",
      "Processing frames:  61%|██████████████▌         | 126/208 [00:10<00:06, 13.57it/s, inference=50.5ms]\n"
     ]
    },
    {
     "name": "stdout",
     "output_type": "stream",
     "text": [
      "[3]:   (526, 392)      (1093, 430)\n",
      "[4]:   (1093, 430)      (528, 397)\n",
      "[3]:   (528, 397)      (1093, 430)\n",
      "[4]:   (1093, 430)      (529, 401)\n",
      "[3]:   (529, 401)      (1093, 430)\n"
     ]
    },
    {
     "name": "stderr",
     "output_type": "stream",
     "text": [
      "0: 384x640 1 basketball, 3 basketball-hoopss, 26.6ms\n",
      "Speed: 2.1ms preprocess, 26.6ms inference, 4.8ms postprocess per image at shape (1, 3, 384, 640)\n",
      "Processing frames:  61%|██████████████▌         | 126/208 [00:10<00:06, 13.57it/s, inference=48.6ms]\n",
      "0: 384x640 1 basketball, 3 basketball-hoopss, 29.8ms\n",
      "Speed: 2.2ms preprocess, 29.8ms inference, 4.5ms postprocess per image at shape (1, 3, 384, 640)\n",
      "Processing frames:  62%|██████████████▊         | 128/208 [00:10<00:05, 13.75it/s, inference=51.6ms]\n",
      "0: 384x640 1 basketball, 3 basketball-hoopss, 27.2ms\n",
      "Speed: 2.1ms preprocess, 27.2ms inference, 5.0ms postprocess per image at shape (1, 3, 384, 640)\n",
      "Processing frames:  62%|██████████████▊         | 128/208 [00:11<00:05, 13.75it/s, inference=49.5ms]\n"
     ]
    },
    {
     "name": "stdout",
     "output_type": "stream",
     "text": [
      "[3]:   (1093, 430)      (1093, 430)\n",
      "[3]:   (1093, 430)      (1093, 430)\n",
      "[3]:   (1093, 430)      (1093, 430)\n"
     ]
    },
    {
     "name": "stderr",
     "output_type": "stream",
     "text": [
      "0: 384x640 1 basketball, 3 basketball-hoopss, 30.4ms\n",
      "Speed: 2.0ms preprocess, 30.4ms inference, 5.3ms postprocess per image at shape (1, 3, 384, 640)\n",
      "Processing frames:  62%|███████████████         | 130/208 [00:11<00:05, 13.81it/s, inference=53.4ms]\n",
      "0: 384x640 1 basketball, 3 basketball-hoopss, 27.1ms\n",
      "Speed: 2.1ms preprocess, 27.1ms inference, 4.7ms postprocess per image at shape (1, 3, 384, 640)\n",
      "Processing frames:  62%|███████████████         | 130/208 [00:11<00:05, 13.81it/s, inference=49.2ms]\n",
      "0: 384x640 1 basketball, 3 basketball-hoopss, 29.0ms\n",
      "Speed: 2.1ms preprocess, 29.0ms inference, 4.5ms postprocess per image at shape (1, 3, 384, 640)\n",
      "Processing frames:  63%|███████████████▏        | 132/208 [00:11<00:05, 13.91it/s, inference=51.3ms]\n"
     ]
    },
    {
     "name": "stdout",
     "output_type": "stream",
     "text": [
      "[3]:   (1093, 430)      (1093, 430)\n",
      "[3]:   (1093, 430)      (1093, 430)\n",
      "[3]:   (1093, 430)      (1093, 430)\n"
     ]
    },
    {
     "name": "stderr",
     "output_type": "stream",
     "text": [
      "0: 384x640 1 basketball, 3 basketball-hoopss, 26.7ms\n",
      "Speed: 1.8ms preprocess, 26.7ms inference, 4.7ms postprocess per image at shape (1, 3, 384, 640)\n",
      "Processing frames:  63%|███████████████▏        | 132/208 [00:11<00:05, 13.91it/s, inference=48.4ms]\n",
      "0: 384x640 1 basketball, 3 basketball-hoopss, 29.0ms\n",
      "Speed: 2.3ms preprocess, 29.0ms inference, 4.6ms postprocess per image at shape (1, 3, 384, 640)\n",
      "Processing frames:  64%|███████████████▍        | 134/208 [00:11<00:05, 14.01it/s, inference=50.9ms]\n",
      "0: 384x640 1 basketball, 3 basketball-hoopss, 27.2ms\n",
      "Speed: 2.0ms preprocess, 27.2ms inference, 4.6ms postprocess per image at shape (1, 3, 384, 640)\n",
      "Processing frames:  64%|███████████████▍        | 134/208 [00:11<00:05, 14.01it/s, inference=48.8ms]\n"
     ]
    },
    {
     "name": "stdout",
     "output_type": "stream",
     "text": [
      "[3]:   (1093, 430)      (1093, 430)\n",
      "[3]:   (1093, 430)      (1093, 430)\n",
      "[3]:   (1093, 430)      (1093, 430)\n"
     ]
    },
    {
     "name": "stderr",
     "output_type": "stream",
     "text": [
      "0: 384x640 1 basketball, 3 basketball-hoopss, 29.7ms\n",
      "Speed: 2.0ms preprocess, 29.7ms inference, 4.3ms postprocess per image at shape (1, 3, 384, 640)\n",
      "Processing frames:  65%|███████████████▋        | 136/208 [00:11<00:05, 14.08it/s, inference=51.1ms]\n",
      "0: 384x640 1 basketball, 3 basketball-hoopss, 27.7ms\n",
      "Speed: 2.0ms preprocess, 27.7ms inference, 4.8ms postprocess per image at shape (1, 3, 384, 640)\n",
      "Processing frames:  65%|███████████████▋        | 136/208 [00:11<00:05, 14.08it/s, inference=49.5ms]\n",
      "0: 384x640 1 basketball, 3 basketball-hoopss, 30.1ms\n",
      "Speed: 2.1ms preprocess, 30.1ms inference, 5.3ms postprocess per image at shape (1, 3, 384, 640)\n",
      "Processing frames:  66%|███████████████▉        | 138/208 [00:11<00:04, 14.02it/s, inference=53.6ms]\n"
     ]
    },
    {
     "name": "stdout",
     "output_type": "stream",
     "text": [
      "[3]:   (1093, 430)      (1093, 430)\n",
      "[3]:   (1093, 430)      (1093, 430)\n",
      "[3]:   (1093, 430)      (1093, 430)\n"
     ]
    },
    {
     "name": "stderr",
     "output_type": "stream",
     "text": [
      "0: 384x640 1 basketball, 3 basketball-hoopss, 27.9ms\n",
      "Speed: 2.0ms preprocess, 27.9ms inference, 4.5ms postprocess per image at shape (1, 3, 384, 640)\n",
      "Processing frames:  66%|███████████████▉        | 138/208 [00:11<00:04, 14.02it/s, inference=48.4ms]\n",
      "0: 384x640 1 basketball, 3 basketball-hoopss, 29.9ms\n",
      "Speed: 2.1ms preprocess, 29.9ms inference, 5.3ms postprocess per image at shape (1, 3, 384, 640)\n",
      "Processing frames:  67%|████████████████▏       | 140/208 [00:11<00:04, 14.04it/s, inference=53.0ms]\n",
      "0: 384x640 2 basketballs, 3 basketball-hoopss, 28.0ms\n",
      "Speed: 2.1ms preprocess, 28.0ms inference, 4.4ms postprocess per image at shape (1, 3, 384, 640)\n",
      "Processing frames:  68%|████████████████▎       | 141/208 [00:11<00:05, 11.86it/s, inference=51.7ms]"
     ]
    },
    {
     "name": "stdout",
     "output_type": "stream",
     "text": [
      "[3]:   (1093, 430)      (1093, 430)\n",
      "[3]:   (1093, 430)      (1093, 430)\n",
      "[3]:   (1093, 430)      (1093, 430)\n",
      "[4]:   (1093, 430)      (559, 417)\n",
      "[3.5666666666666664]\n",
      "Current memory usage: 0.8977622985839844 GB\n"
     ]
    },
    {
     "name": "stderr",
     "output_type": "stream",
     "text": [
      "\n"
     ]
    },
    {
     "data": {
      "text/plain": [
       "[3.5666666666666664]"
      ]
     },
     "execution_count": 3,
     "metadata": {},
     "output_type": "execute_result"
    }
   ],
   "source": [
    "DETECT(model_path = 'weights/v10_120_s.pt', \n",
    "       is_screen_capture=False,\n",
    "       show_output = True, \n",
    "       video_path = \"/Users/oscarwan/bballDetection/videos/videos_clipped/shot.mp4\",\n",
    "       save_output = False,\n",
    "       #output_path=\"v9.mp4\",\n",
    "       verbose = True\n",
    "       )"
   ]
  },
  {
   "cell_type": "code",
   "execution_count": 2,
   "metadata": {},
   "outputs": [],
   "source": [
    "model_path = 'weights/v10_120_s.pt'\n",
    "is_screen_capture = False\n",
    "video_path = \"/Users/oscarwan/bballDetection/videos/videos_clipped/shot.mp4\"\n",
    "show_output = True,\n",
    "save_output = False,\n",
    "output_path = \"output.mp4\",\n",
    "verbose = True"
   ]
  },
  {
   "cell_type": "code",
   "execution_count": 3,
   "metadata": {},
   "outputs": [
    {
     "name": "stdout",
     "output_type": "stream",
     "text": [
      "Model loaded successfully!\n"
     ]
    },
    {
     "name": "stderr",
     "output_type": "stream",
     "text": [
      "[W NNPACK.cpp:64] Could not initialize NNPACK! Reason: Unsupported hardware.\n",
      "\n",
      "0: 384x640 2 basketballs, 3 basketball-hoopss, 508.9ms\n",
      "Speed: 18.5ms preprocess, 508.9ms inference, 38.2ms postprocess per image at shape (1, 3, 384, 640)\n"
     ]
    },
    {
     "name": "stdout",
     "output_type": "stream",
     "text": [
      "Time to process 1 frame: 3949 milliseconds\n"
     ]
    },
    {
     "name": "stderr",
     "output_type": "stream",
     "text": [
      "\n",
      "0: 384x640 2 basketballs, 3 basketball-hoopss, 32.5ms\n",
      "Speed: 2.4ms preprocess, 32.5ms inference, 6.1ms postprocess per image at shape (1, 3, 384, 640)\n",
      "\n",
      "0: 384x640 2 basketballs, 3 basketball-hoopss, 28.7ms\n",
      "Speed: 2.3ms preprocess, 28.7ms inference, 4.3ms postprocess per image at shape (1, 3, 384, 640)\n"
     ]
    },
    {
     "name": "stdout",
     "output_type": "stream",
     "text": [
      "Time to process 1 frame: 134 milliseconds\n"
     ]
    },
    {
     "name": "stderr",
     "output_type": "stream",
     "text": [
      "\n",
      "0: 384x640 2 basketballs, 3 basketball-hoopss, 29.9ms\n",
      "Speed: 2.1ms preprocess, 29.9ms inference, 4.5ms postprocess per image at shape (1, 3, 384, 640)\n"
     ]
    },
    {
     "ename": "",
     "evalue": "",
     "output_type": "error",
     "traceback": [
      "\u001b[1;31mCannot execute code, session has been disposed. Please try restarting the Kernel."
     ]
    },
    {
     "ename": "",
     "evalue": "",
     "output_type": "error",
     "traceback": [
      "\u001b[1;31mThe Kernel crashed while executing code in the the current cell or a previous cell. Please review the code in the cell(s) to identify a possible cause of the failure. Click <a href='https://aka.ms/vscodeJupyterKernelCrash'>here</a> for more info. View Jupyter <a href='command:jupyter.viewOutput'>log</a> for further details."
     ]
    }
   ],
   "source": [
    "CONFIDENCE_THRESHOLD = 0.8\n",
    "GREEN = (0, 255, 0)\n",
    "WHITE = (255, 255, 255)\n",
    "\n",
    "# initialize the video capture object\n",
    "video_cap = cv2.VideoCapture(video_path)\n",
    "\n",
    "\n",
    "# load the pre-trained YOLOv8n model\n",
    "model = YOLO(model_path)\n",
    "print(\"Model loaded successfully!\")\n",
    "tracker = DeepSort(max_age=10)\n",
    "\n",
    "\n",
    "while True:\n",
    "    start = datetime.datetime.now()\n",
    "\n",
    "    ret, frame = video_cap.read()\n",
    "\n",
    "    if not ret:\n",
    "        break\n",
    "\n",
    "    # run the YOLO model on the frame\n",
    "    detections = model(frame, device = \"mps\")[0]\n",
    "\n",
    "    # initialize the list of bounding boxes and confidences\n",
    "    results = []\n",
    "\n",
    "    ######################################\n",
    "    # DETECTION\n",
    "    ######################################\n",
    "\n",
    "    # loop over the detections\n",
    "    for data in detections.boxes.data.tolist():\n",
    "        # extract the confidence (i.e., probability) associated with the prediction\n",
    "        confidence = data[4]\n",
    "\n",
    "        # filter out weak detections by ensuring the \n",
    "        # confidence is greater than the minimum confidence\n",
    "        if float(confidence) < CONFIDENCE_THRESHOLD:\n",
    "            continue\n",
    "\n",
    "        # if the confidence is greater than the minimum confidence,\n",
    "        # get the bounding box and the class id\n",
    "        xmin, ymin, xmax, ymax = int(data[0]), int(data[1]), int(data[2]), int(data[3])\n",
    "        class_id = int(data[5])\n",
    "        # add the bounding box (x, y, w, h), confidence and class id to the results list\n",
    "        results.append([[xmin, ymin, xmax - xmin, ymax - ymin], confidence, class_id])\n",
    "\n",
    "    ######################################\n",
    "    # TRACKING\n",
    "    ######################################\n",
    "\n",
    "    # update the tracker with the new detections\n",
    "    tracks = tracker.update_tracks(results, frame=frame)\n",
    "    # loop over the tracks\n",
    "    for track in tracks:\n",
    "        # if the track is not confirmed, ignore it\n",
    "        if not track.is_confirmed():\n",
    "            continue\n",
    "\n",
    "        # get the track id and the bounding box\n",
    "        track_id = track.track_id\n",
    "        ltrb = track.to_ltrb()\n",
    "\n",
    "        xmin, ymin, xmax, ymax = int(ltrb[0]), int(\n",
    "            ltrb[1]), int(ltrb[2]), int(ltrb[3])\n",
    "        # draw the bounding box and the track id\n",
    "        cv2.rectangle(frame, (xmin, ymin), (xmax, ymax), GREEN, 2)\n",
    "        cv2.rectangle(frame, (xmin, ymin - 20), (xmin + 20, ymin), GREEN, -1)\n",
    "        cv2.putText(frame, str(track_id), (xmin + 5, ymin - 8),\n",
    "                    cv2.FONT_HERSHEY_SIMPLEX, 0.5, WHITE, 2)\n",
    "\n",
    "    # end time to compute the fps\n",
    "    end = datetime.datetime.now()\n",
    "    # show the time it took to process 1 frame\n",
    "    print(f\"Time to process 1 frame: {(end - start).total_seconds() * 1000:.0f} milliseconds\")\n",
    "    # calculate the frame per second and draw it on the frame\n",
    "    fps = f\"FPS: {1 / (end - start).total_seconds():.2f}\"\n",
    "    cv2.putText(frame, fps, (50, 50),\n",
    "                cv2.FONT_HERSHEY_SIMPLEX, 2, (0, 0, 255), 8)\n",
    "\n",
    "    # show the frame to our screen\n",
    "    cv2.imshow(\"Frame\", frame)\n",
    "    if cv2.waitKey(1) == ord(\"q\"):\n",
    "        break\n",
    "\n",
    "video_cap.release()\n",
    "cv2.destroyAllWindows()"
   ]
  },
  {
   "cell_type": "code",
   "execution_count": 4,
   "metadata": {},
   "outputs": [
    {
     "name": "stdout",
     "output_type": "stream",
     "text": [
      "Collecting deep-sort-realtime\n",
      "  Using cached deep_sort_realtime-1.3.2-py3-none-any.whl (8.4 MB)\n",
      "Requirement already satisfied: numpy in /opt/anaconda3/envs/basketball_detect/lib/python3.9/site-packages (from deep-sort-realtime) (1.24.3)\n",
      "Requirement already satisfied: scipy in /opt/anaconda3/envs/basketball_detect/lib/python3.9/site-packages (from deep-sort-realtime) (1.11.1)\n",
      "Requirement already satisfied: opencv-python in /opt/anaconda3/envs/basketball_detect/lib/python3.9/site-packages (from deep-sort-realtime) (4.8.0.74)\n",
      "Installing collected packages: deep-sort-realtime\n",
      "Successfully installed deep-sort-realtime-1.3.2\n"
     ]
    }
   ],
   "source": [
    "!pip install deep-sort-realtime"
   ]
  },
  {
   "cell_type": "code",
   "execution_count": null,
   "metadata": {},
   "outputs": [],
   "source": []
  }
 ],
 "metadata": {
  "kernelspec": {
   "display_name": "Python 3 (ipykernel)",
   "language": "python",
   "name": "python3"
  },
  "language_info": {
   "codemirror_mode": {
    "name": "ipython",
    "version": 3
   },
   "file_extension": ".py",
   "mimetype": "text/x-python",
   "name": "python",
   "nbconvert_exporter": "python",
   "pygments_lexer": "ipython3",
   "version": "3.9.17"
  }
 },
 "nbformat": 4,
 "nbformat_minor": 2
}
