{
 "cells": [
  {
   "cell_type": "code",
   "execution_count": 3,
   "metadata": {},
   "outputs": [],
   "source": [
    "from detection import *\n",
    "from ultralytics import YOLO\n",
    "import torch\n",
    "\n",
    "device = torch.device('cuda') if torch.cuda.is_available() else torch.device('cpu')\n",
    "device = torch.device(\"mps\") if torch.backends.mps.is_available() else torch.device(\"cuda\")"
   ]
  },
  {
   "cell_type": "code",
   "execution_count": null,
   "metadata": {},
   "outputs": [],
   "source": [
    "model_path = \"weights/detect_large.pt\"\n",
    "model = YOLO(model_path, device = \"mps\")\n",
    "\n",
    "video_path = \"videos_full/id_dF2eSE2FQ4.mp4\"\n",
    "cap = cv2.VideoCapture(video_path)\n",
    "while True:\n",
    "    ret, img = cap.read()\n",
    "    if ret:\n",
    "        results = model(img, device = \"mps\")\n",
    "        for r in results:\n",
    "            boxes = r.boxes\n",
    "            for box in boxes:\n",
    "                x1, y1, x2, y2 = map(int, box.xyxy[0])\n",
    "                class_name = model.names[int(box.cls)]\n",
    "                conf = box.conf.item()\n",
    "                if class_name == \"hoop\":\n",
    "                    cv2.rectangle(img, (x1, y1), (x2, y2), (255, 0, 0), 2)\n",
    "                    cv2.putText(img, f\"{class_name}: {conf:.3f}\", (x1, y1), cv2.FONT_HERSHEY_SIMPLEX, 1, (255, 255, 255), 2)\n",
    "                elif class_name == \"basketball\":\n",
    "                    cv2.rectangle(img, (x1, y1), (x2, y2), (0, 255, 0), 2)\n",
    "                    cv2.putText(img, f\"{class_name}: {conf:.3f}\", (x1, y1), cv2.FONT_HERSHEY_SIMPLEX, 1, (255, 255, 255), 2)\n",
    "                elif class_name == \"person\":\n",
    "                    cv2.rectangle(img, (x1, y1), (x2, y2), (0, 0, 255), 2)\n",
    "                    cv2.putText(img, f\"{class_name}: {conf:.3f}\", (x1, y1), cv2.FONT_HERSHEY_SIMPLEX, 1, (255, 255, 255), 2)\n",
    "        cv2.imshow(\"img\", img)\n",
    "        if cv2.waitKey(1) & 0xFF == ord('q'):\n",
    "            break\n",
    "                \n",
    "    else:\n",
    "        break"
   ]
  }
 ],
 "metadata": {
  "kernelspec": {
   "display_name": "native",
   "language": "python",
   "name": "python3"
  },
  "language_info": {
   "codemirror_mode": {
    "name": "ipython",
    "version": 3
   },
   "file_extension": ".py",
   "mimetype": "text/x-python",
   "name": "python",
   "nbconvert_exporter": "python",
   "pygments_lexer": "ipython3",
   "version": "3.10.12"
  }
 },
 "nbformat": 4,
 "nbformat_minor": 2
}
