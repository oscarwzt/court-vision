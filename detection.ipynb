{
 "cells": [
  {
   "cell_type": "code",
   "execution_count": 3,
   "metadata": {},
   "outputs": [],
   "source": [
    "from ultralytics import YOLO\n",
    "import cv2\n",
    "import numpy as np\n",
    "import cvzone\n",
    "from detection import DETECT\n",
    "from mss import mss\n",
    "from deep_sort_realtime.deepsort_tracker import DeepSort\n",
    "import datetime"
   ]
  },
  {
   "attachments": {},
   "cell_type": "markdown",
   "metadata": {},
   "source": [
    "# Detect a Video"
   ]
  },
  {
   "cell_type": "code",
   "execution_count": null,
   "metadata": {},
   "outputs": [],
   "source": [
    "DETECT(model_path = 'weights/v10_120_s.pt', \n",
    "       is_screen_capture=False,\n",
    "       show_output = True, \n",
    "       video_path = \"/Users/oscarwan/bballDetection/videos/v2Test.mov\",\n",
    "       save_output = False,\n",
    "       #output_path=\"v9.mp4\",\n",
    "       verbose = True\n",
    "       )"
   ]
  },
  {
   "cell_type": "code",
   "execution_count": 4,
   "metadata": {},
   "outputs": [],
   "source": [
    "model_path = 'weights/v10_120_s.pt'\n",
    "is_screen_capture = False\n",
    "video_path = \"/Users/oscarwan/bballDetection/videos/v2Test.mov\"\n",
    "show_output = True,\n",
    "save_output = False,\n",
    "output_path = \"output.mp4\",\n",
    "verbose = True"
   ]
  },
  {
   "cell_type": "code",
   "execution_count": 5,
   "metadata": {},
   "outputs": [
    {
     "name": "stderr",
     "output_type": "stream",
     "text": [
      "[W NNPACK.cpp:64] Could not initialize NNPACK! Reason: Unsupported hardware.\n",
      "\n",
      "0: 384x640 2 basketballs, 3 basketball-hoopss, 449.2ms\n",
      "Speed: 18.3ms preprocess, 449.2ms inference, 39.2ms postprocess per image at shape (1, 3, 384, 640)\n"
     ]
    },
    {
     "name": "stdout",
     "output_type": "stream",
     "text": [
      "Time to process 1 frame: 6300 milliseconds\n"
     ]
    },
    {
     "name": "stderr",
     "output_type": "stream",
     "text": [
      "\n",
      "0: 384x640 2 basketballs, 3 basketball-hoopss, 30.8ms\n",
      "Speed: 2.7ms preprocess, 30.8ms inference, 16.6ms postprocess per image at shape (1, 3, 384, 640)\n",
      "\n",
      "0: 384x640 3 basketballs, 3 basketball-hoopss, 30.8ms\n",
      "Speed: 2.7ms preprocess, 30.8ms inference, 30.9ms postprocess per image at shape (1, 3, 384, 640)\n"
     ]
    },
    {
     "name": "stdout",
     "output_type": "stream",
     "text": [
      "Time to process 1 frame: 186 milliseconds\n"
     ]
    },
    {
     "name": "stderr",
     "output_type": "stream",
     "text": [
      "\n",
      "0: 384x640 3 basketballs, 3 basketball-hoopss, 30.2ms\n",
      "Speed: 2.5ms preprocess, 30.2ms inference, 5.2ms postprocess per image at shape (1, 3, 384, 640)\n"
     ]
    },
    {
     "ename": "",
     "evalue": "",
     "output_type": "error",
     "traceback": [
      "\u001b[1;31mCannot execute code, session has been disposed. Please try restarting the Kernel."
     ]
    },
    {
     "ename": "",
     "evalue": "",
     "output_type": "error",
     "traceback": [
      "\u001b[1;31mThe Kernel crashed while executing code in the the current cell or a previous cell. Please review the code in the cell(s) to identify a possible cause of the failure. Click <a href='https://aka.ms/vscodeJupyterKernelCrash'>here</a> for more info. View Jupyter <a href='command:jupyter.viewOutput'>log</a> for further details."
     ]
    }
   ],
   "source": [
    "CONFIDENCE_THRESHOLD = 0.8\n",
    "GREEN = (0, 255, 0)\n",
    "WHITE = (255, 255, 255)\n",
    "\n",
    "# initialize the video capture object\n",
    "video_cap = cv2.VideoCapture(video_path)\n",
    "\n",
    "\n",
    "# load the pre-trained YOLOv8n model\n",
    "model = YOLO(model_path)\n",
    "tracker = DeepSort(max_age=10)\n",
    "\n",
    "\n",
    "while True:\n",
    "    start = datetime.datetime.now()\n",
    "\n",
    "    ret, frame = video_cap.read()\n",
    "\n",
    "    if not ret:\n",
    "        break\n",
    "\n",
    "    # run the YOLO model on the frame\n",
    "    detections = model(frame, device = \"mps\")[0]\n",
    "\n",
    "    # initialize the list of bounding boxes and confidences\n",
    "    results = []\n",
    "\n",
    "    ######################################\n",
    "    # DETECTION\n",
    "    ######################################\n",
    "\n",
    "    # loop over the detections\n",
    "    for data in detections.boxes.data.tolist():\n",
    "        # extract the confidence (i.e., probability) associated with the prediction\n",
    "        confidence = data[4]\n",
    "\n",
    "        # filter out weak detections by ensuring the \n",
    "        # confidence is greater than the minimum confidence\n",
    "        if float(confidence) < CONFIDENCE_THRESHOLD:\n",
    "            continue\n",
    "\n",
    "        # if the confidence is greater than the minimum confidence,\n",
    "        # get the bounding box and the class id\n",
    "        xmin, ymin, xmax, ymax = int(data[0]), int(data[1]), int(data[2]), int(data[3])\n",
    "        class_id = int(data[5])\n",
    "        # add the bounding box (x, y, w, h), confidence and class id to the results list\n",
    "        results.append([[xmin, ymin, xmax - xmin, ymax - ymin], confidence, class_id])\n",
    "\n",
    "    ######################################\n",
    "    # TRACKING\n",
    "    ######################################\n",
    "\n",
    "    # update the tracker with the new detections\n",
    "    tracks = tracker.update_tracks(results, frame=frame)\n",
    "    # loop over the tracks\n",
    "    for track in tracks:\n",
    "        # if the track is not confirmed, ignore it\n",
    "        if not track.is_confirmed():\n",
    "            continue\n",
    "\n",
    "        # get the track id and the bounding box\n",
    "        track_id = track.track_id\n",
    "        ltrb = track.to_ltrb()\n",
    "\n",
    "        xmin, ymin, xmax, ymax = int(ltrb[0]), int(\n",
    "            ltrb[1]), int(ltrb[2]), int(ltrb[3])\n",
    "        # draw the bounding box and the track id\n",
    "        cv2.rectangle(frame, (xmin, ymin), (xmax, ymax), GREEN, 2)\n",
    "        cv2.rectangle(frame, (xmin, ymin - 20), (xmin + 20, ymin), GREEN, -1)\n",
    "        cv2.putText(frame, str(track_id), (xmin + 5, ymin - 8),\n",
    "                    cv2.FONT_HERSHEY_SIMPLEX, 0.5, WHITE, 2)\n",
    "\n",
    "    # end time to compute the fps\n",
    "    end = datetime.datetime.now()\n",
    "    # show the time it took to process 1 frame\n",
    "    print(f\"Time to process 1 frame: {(end - start).total_seconds() * 1000:.0f} milliseconds\")\n",
    "    # calculate the frame per second and draw it on the frame\n",
    "    fps = f\"FPS: {1 / (end - start).total_seconds():.2f}\"\n",
    "    cv2.putText(frame, fps, (50, 50),\n",
    "                cv2.FONT_HERSHEY_SIMPLEX, 2, (0, 0, 255), 8)\n",
    "\n",
    "    # show the frame to our screen\n",
    "    cv2.imshow(\"Frame\", frame)\n",
    "    if cv2.waitKey(1) == ord(\"q\"):\n",
    "        break\n",
    "\n",
    "video_cap.release()\n",
    "cv2.destroyAllWindows()"
   ]
  },
  {
   "cell_type": "code",
   "execution_count": 4,
   "metadata": {},
   "outputs": [
    {
     "name": "stdout",
     "output_type": "stream",
     "text": [
      "Collecting deep-sort-realtime\n",
      "  Using cached deep_sort_realtime-1.3.2-py3-none-any.whl (8.4 MB)\n",
      "Requirement already satisfied: numpy in /opt/anaconda3/envs/basketball_detect/lib/python3.9/site-packages (from deep-sort-realtime) (1.24.3)\n",
      "Requirement already satisfied: scipy in /opt/anaconda3/envs/basketball_detect/lib/python3.9/site-packages (from deep-sort-realtime) (1.11.1)\n",
      "Requirement already satisfied: opencv-python in /opt/anaconda3/envs/basketball_detect/lib/python3.9/site-packages (from deep-sort-realtime) (4.8.0.74)\n",
      "Installing collected packages: deep-sort-realtime\n",
      "Successfully installed deep-sort-realtime-1.3.2\n"
     ]
    }
   ],
   "source": [
    "!pip install deep-sort-realtime"
   ]
  },
  {
   "cell_type": "code",
   "execution_count": null,
   "metadata": {},
   "outputs": [],
   "source": []
  }
 ],
 "metadata": {
  "kernelspec": {
   "display_name": "Python 3 (ipykernel)",
   "language": "python",
   "name": "python3"
  },
  "language_info": {
   "codemirror_mode": {
    "name": "ipython",
    "version": 3
   },
   "file_extension": ".py",
   "mimetype": "text/x-python",
   "name": "python",
   "nbconvert_exporter": "python",
   "pygments_lexer": "ipython3",
   "version": "3.9.17"
  }
 },
 "nbformat": 4,
 "nbformat_minor": 2
}
